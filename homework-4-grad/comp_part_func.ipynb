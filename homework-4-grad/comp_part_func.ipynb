{
 "cells": [
  {
   "cell_type": "code",
   "execution_count": 1,
   "id": "e3d8d010-4eed-47b4-a508-b97cfb729138",
   "metadata": {},
   "outputs": [],
   "source": [
    "import numpy as np\n",
    "from scipy.constants import k, eV, h, u, pi # import the constants\n",
    "import pandas as pd\n",
    "import scipy\n"
   ]
  },
  {
   "cell_type": "code",
   "execution_count": 2,
   "id": "77717fed-c482-4084-84d2-9626f3048073",
   "metadata": {},
   "outputs": [],
   "source": [
    "# Define lennard Jones potential\n",
    "def lennard_jones_potential(r, epsilon, sigma):\n",
    "    return 4 * epsilon * ((sigma / r)**12 - (sigma / r)**6)"
   ]
  },
  {
   "cell_type": "code",
   "execution_count": 3,
   "id": "3fdeed9d-3304-4f25-b4dd-471717f7f164",
   "metadata": {},
   "outputs": [],
   "source": [
    "# Define a function to compute the distance r for Lennard Jones Potential based on the position of two particles.\n",
    "def distance (x1, y1, z1, x2, y2, z2):\n",
    "    return np.sqrt((x1 - x2)**2 + (y1 - y2)**2 + (z1 - z2)**2)"
   ]
  },
  {
   "cell_type": "code",
   "execution_count": 4,
   "id": "8e5d3d4d-8701-4f0f-a0de-a13d564f790e",
   "metadata": {},
   "outputs": [],
   "source": [
    "# Define partition function\n",
    "def compute_partition_function(epsilon, sigma, V, Tmin, Tmax, data_points):\n",
    "    \n",
    "    temperatures = np.linspace(Tmin, Tmax, data_points) # Set the temperatures\n",
    "    \n",
    "    partition_function = [] # Create an empty list for partition function    \n",
    "\n",
    "    \n",
    "    for T in temperatures:\n",
    "        \n",
    "        L = V**(1/3) # Length of the cubic box\n",
    "       \n",
    "        # Define the positions of two Ar atoms\n",
    "        coord = np.linspace(-L/2, L/2, data_points)  \n",
    "        x1, y1, z1, x2, y2, z2 = np.meshgrid(coord, coord, coord, coord, coord, coord, indexing = 'ij')\n",
    "        \n",
    "        beta = 1 / (k * T)\n",
    "        \n",
    "        r = distance(x1, y1, z1, x2, y2, z2) # Compute the distance between two Ar atoms\n",
    "        r[r < sigma] = sigma # Set the minimum distance between two Ar atoms as sigma\n",
    "        \n",
    "        V_LJ = lennard_jones_potential(r, epsilon, sigma)\n",
    "        boltzmann_factor = np.exp(-beta * V_LJ) # Intergal part\n",
    "\n",
    "        # Intergal over x1, y1, z1, x2, y2 and z2\n",
    "        integral_x1 = scipy.integrate.trapezoid(boltzmann_factor, coord)\n",
    "        integral_x1_y1 = scipy.integrate.trapezoid(integral_x1, coord)\n",
    "        integral_x1_y1_z1 = scipy.integrate.trapezoid(integral_x1_y1, coord)\n",
    "        integral_x1_y1_z1_x2 = scipy.integrate.trapezoid(integral_x1_y1_z1, coord)\n",
    "        integral_x1_y1_z1_x2_y2 = scipy.integrate.trapezoid(integral_x1_y1_z1_x2, coord)\n",
    "        integral_x1_y1_z1_x2_y2_z2 = scipy.integrate.trapezoid(integral_x1_y1_z1_x2_y2, coord)\n",
    "   \n",
    "        Ar_mass = 39.948 * u\n",
    "        lambda_Ar = np.sqrt((beta * h**2) / (2 * pi * Ar_mass))\n",
    "\n",
    "        # Compute the partition function\n",
    "        Z = (1 / lambda_Ar**6) * integral_x1_y1_z1_x2_y2_z2\n",
    "        \n",
    "        partition_function.append(Z) # Save the results of partition function in the list.\n",
    "        \n",
    "    return temperatures, partition_function\n"
   ]
  },
  {
   "cell_type": "code",
   "execution_count": 5,
   "id": "e858a6dd-5efc-4358-a72e-e51d65bb76db",
   "metadata": {},
   "outputs": [],
   "source": [
    "# Assign values to the variables\n",
    "epsilon = 0.0103 * eV # Convert eV to J\n",
    "sigma = 3.4e-10 # Convert Å to m\n",
    "V = 1000 * (1e-10)**3 # Convert Å^3 to m^3\n",
    "Tmin = 10 # K\n",
    "Tmax = 1000 # K\n",
    "data_points = 11 # Avoid using too much memory (Error occurs when data points > 30)\n",
    "\n",
    "temperatures, partition_function = compute_partition_function(epsilon, sigma, V, Tmin, Tmax, data_points)"
   ]
  },
  {
   "cell_type": "code",
   "execution_count": 6,
   "id": "f9a1e345-837f-4f5f-a938-0d56e3cca061",
   "metadata": {},
   "outputs": [],
   "source": [
    "# Create a DataFrame and save the results as a .csv file.\n",
    "df = pd.DataFrame({\n",
    "    'Temperature (K)': temperatures,\n",
    "    'Partition Function (Z)': partition_function\n",
    "})\n",
    "\n",
    "df.to_csv('Partition_Function_vs_Temperature.csv')"
   ]
  },
  {
   "cell_type": "code",
   "execution_count": null,
   "id": "2384b0cb-a52f-4001-8aec-9d17d3190cf8",
   "metadata": {},
   "outputs": [],
   "source": []
  },
  {
   "cell_type": "code",
   "execution_count": null,
   "id": "e5575d4e-b9b9-4b40-bd95-bc855df512f5",
   "metadata": {},
   "outputs": [],
   "source": []
  }
 ],
 "metadata": {
  "kernelspec": {
   "display_name": "Python 3 (ipykernel)",
   "language": "python",
   "name": "python3"
  },
  "language_info": {
   "codemirror_mode": {
    "name": "ipython",
    "version": 3
   },
   "file_extension": ".py",
   "mimetype": "text/x-python",
   "name": "python",
   "nbconvert_exporter": "python",
   "pygments_lexer": "ipython3",
   "version": "3.12.4"
  }
 },
 "nbformat": 4,
 "nbformat_minor": 5
}
