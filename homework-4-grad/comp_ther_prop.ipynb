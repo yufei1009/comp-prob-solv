{
 "cells": [
  {
   "cell_type": "code",
   "execution_count": 1,
   "id": "69661c23-2fee-4b20-b3df-cd5db828ca16",
   "metadata": {},
   "outputs": [],
   "source": [
    "import numpy as np\n",
    "from scipy.constants import k # import the constants\n",
    "import pandas as pd"
   ]
  },
  {
   "cell_type": "code",
   "execution_count": 2,
   "id": "1b26df96-68b1-427e-996b-910dcf0028d6",
   "metadata": {},
   "outputs": [],
   "source": [
    "# Define a function to compute internal energy and heat capacity\n",
    "def compute_thermodynamic_properties(temperatures, partition_function):\n",
    "    \n",
    "    beta = 1 / (k * temperatures)\n",
    "    ln_Z = np.log(partition_function)\n",
    "    U = -np.gradient(ln_Z, beta) # Internal Energy\n",
    "    \n",
    "    Cv = np.gradient(U, temperatures) # Heat capacity\n",
    "    return U, Cv"
   ]
  },
  {
   "cell_type": "code",
   "execution_count": 3,
   "id": "fc5480b1-dfab-4664-804d-7a32efdab8a2",
   "metadata": {},
   "outputs": [],
   "source": [
    "# Read the results from the previous step.\n",
    "data = pd.read_csv('Partition_Function_vs_Temperature.csv') \n",
    "\n",
    "temperatures = data['Temperature (K)']\n",
    "partition_function = data['Partition Function (Z)']"
   ]
  },
  {
   "cell_type": "code",
   "execution_count": 4,
   "id": "52e7892c-1288-4ca1-a8c1-cc8c88789666",
   "metadata": {},
   "outputs": [],
   "source": [
    "# Cpmpute internal energy and heat capacity\n",
    "U, Cv = compute_thermodynamic_properties(partition_function, temperatures)"
   ]
  },
  {
   "cell_type": "code",
   "execution_count": 5,
   "id": "1d940b13-0545-479f-b4c4-a4c6b410db85",
   "metadata": {},
   "outputs": [],
   "source": [
    "# Create a DataFrame and save the results of themaldynamic properties as a .csv file.\n",
    "thermodynamic_properties_df = pd.DataFrame({\n",
    "    'Temperature (K)': temperatures,\n",
    "    'Internal Energy (J)': U,\n",
    "    'Heat Capacity (J/K)': Cv\n",
    "})\n",
    "\n",
    "thermodynamic_properties_df.to_csv('Thermodynamic_Properties_vs_Temperatures.csv')"
   ]
  },
  {
   "cell_type": "code",
   "execution_count": null,
   "id": "cea48289-efd7-497a-a5c3-b00dd437ec70",
   "metadata": {},
   "outputs": [],
   "source": []
  }
 ],
 "metadata": {
  "kernelspec": {
   "display_name": "Python 3 (ipykernel)",
   "language": "python",
   "name": "python3"
  },
  "language_info": {
   "codemirror_mode": {
    "name": "ipython",
    "version": 3
   },
   "file_extension": ".py",
   "mimetype": "text/x-python",
   "name": "python",
   "nbconvert_exporter": "python",
   "pygments_lexer": "ipython3",
   "version": "3.12.4"
  }
 },
 "nbformat": 4,
 "nbformat_minor": 5
}
