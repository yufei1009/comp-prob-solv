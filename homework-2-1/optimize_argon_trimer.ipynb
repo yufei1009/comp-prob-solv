{
 "cells": [
  {
   "cell_type": "code",
   "execution_count": 1,
   "id": "9580874a-ee88-458f-abec-8c474e3aa6f4",
   "metadata": {},
   "outputs": [],
   "source": [
    "import numpy as np\n",
    "from scipy.optimize import minimize\n",
    "import math"
   ]
  },
  {
   "cell_type": "code",
   "execution_count": 2,
   "id": "449028c6-b7c6-4167-bb25-125fade5cd14",
   "metadata": {},
   "outputs": [],
   "source": [
    "# Use scipy.optimize.minimize to find the distance between two Ar atoms\n",
    "\n",
    "def lennard_jones_potential(r, epsilon, sigma):\n",
    "    \n",
    "    lennard_jones_potential_value = 4 * epsilon * ((sigma / r)**12 - (sigma / r)**6)\n",
    "    \n",
    "    return lennard_jones_potential_value"
   ]
  },
  {
   "cell_type": "code",
   "execution_count": 3,
   "id": "d7549a30-b8ad-4e0d-aa0a-b4858c4549ff",
   "metadata": {},
   "outputs": [],
   "source": [
    "# Define the value of epsilon and sigma\n",
    "epsilon = 0.1\n",
    "sigma = 3.4\n",
    "\n",
    "# Define total lennard jones potential\n",
    "def total_potential(x):\n",
    "\n",
    "# Set three values that need to be optimized.\n",
    "    x2 = x[0] \n",
    "    x3 = x[1]\n",
    "    y3 = x[2]\n",
    "\n",
    "    # Calculate the distance between Argon atoms.    \n",
    "    r12 = x2\n",
    "    r13 = np.sqrt(x3**2 + y3**2)\n",
    "    r23 = np.sqrt((r12 - y3)**2 + x3**2)\n",
    "\n",
    "# Argon trimer's total lennard jones potential is the sum of  each Argon dimer pair's lennard jones potential.    \n",
    "    V_total = lennard_jones_potential(r12, epsilon, sigma) + lennard_jones_potential(r13, epsilon, sigma) + lennard_jones_potential(r23, epsilon, sigma)\n",
    "   \n",
    "    return V_total"
   ]
  },
  {
   "cell_type": "code",
   "execution_count": 4,
   "id": "1d9f5204-694a-42ec-9832-acfb054f3a5c",
   "metadata": {},
   "outputs": [
    {
     "name": "stdout",
     "output_type": "stream",
     "text": [
      "The coordinate of Argon atom:\n",
      "Ar1:(0, 0, 0)\n",
      "Ar2:(3.82, 0, 0)\n",
      "Ar3:(3.31, 1.91, 0)\n"
     ]
    }
   ],
   "source": [
    "initial_guess = [4, 3, 3] # Initial guess: x2 = 4, x3 = 3, y3 = 3\n",
    "\n",
    "result = minimize(total_potential, initial_guess) # Optimize the results.\n",
    "\n",
    "x2_opt, x3_opt, y3_opt = result.x\n",
    "\n",
    "print(\"The coordinate of Argon atom:\" )\n",
    "print(\"Ar1:(0, 0, 0)\")\n",
    "print(f\"Ar2:({x2_opt:.2f}, 0, 0)\")   \n",
    "print(f\"Ar3:({x3_opt:.2f}, {y3_opt:.2f}, 0)\") "
   ]
  },
  {
   "cell_type": "code",
   "execution_count": 5,
   "id": "7f8bb432-9c7c-4f33-8405-6dd89bef0fa7",
   "metadata": {},
   "outputs": [],
   "source": [
    "# Store the coordinate of three Argons in a dictionary.\n",
    "\n",
    "Ar2_x2 = x2_opt\n",
    "Ar3_x3 = x3_opt\n",
    "Ar3_y3 = y3_opt\n",
    "\n",
    "Argon_trimer = {\n",
    "    \"Ar1\":[0, 0, 0],\n",
    "    \"Ar2\":[Ar2_x2, 0, 0],\n",
    "    \"Ar3\":[Ar3_x3, Ar3_y3, 0]\n",
    "}"
   ]
  },
  {
   "cell_type": "code",
   "execution_count": 6,
   "id": "2f3e5fa4-2c08-4fa5-8b55-a647b93cf242",
   "metadata": {},
   "outputs": [],
   "source": [
    "# Using the function compute_bond_length, compute_bond_angle from homework-1-2\n",
    "\n",
    "from Compute_Bond_Length_and_Bond_Angle import compute_bond_length, compute_bond_angle"
   ]
  },
  {
   "cell_type": "code",
   "execution_count": 7,
   "id": "83d9c505-4912-4f85-b0bf-c462be8169b9",
   "metadata": {},
   "outputs": [],
   "source": [
    "Ar1_coord = Argon_trimer[\"Ar1\"]\n",
    "Ar2_coord = Argon_trimer[\"Ar2\"]\n",
    "Ar3_coord = Argon_trimer[\"Ar3\"]\n"
   ]
  },
  {
   "cell_type": "code",
   "execution_count": 8,
   "id": "0b063a3d-a55e-460d-a6a5-d330cfd089d4",
   "metadata": {},
   "outputs": [
    {
     "name": "stdout",
     "output_type": "stream",
     "text": [
      "optimal distance r12 = 3.82 Å\n",
      "optimal distance r13 = 3.82 Å\n",
      "optimal distance r23 = 1.98 Å\n",
      "The bond angle is 75.00 degrees and is classified as acute.\n",
      "The bond angle is 75.00 degrees and is classified as acute.\n",
      "The bond angle is 30.00 degrees and is classified as acute.\n"
     ]
    }
   ],
   "source": [
    "# Calculate the optimized bond length\n",
    "r12_opt = compute_bond_length(Ar1_coord, Ar2_coord)\n",
    "r13_opt = compute_bond_length(Ar1_coord, Ar3_coord)\n",
    "r23_opt = compute_bond_length(Ar2_coord, Ar3_coord)\n",
    "\n",
    "print(f\"optimal distance r12 = {r12_opt:.2f} Å\")\n",
    "print(f\"optimal distance r13 = {r13_opt:.2f} Å\")\n",
    "print(f\"optimal distance r23 = {r23_opt:.2f} Å\")\n",
    "\n",
    "# Calculate the optimized bond angle.\n",
    "Argon_trimer_bond_angle = compute_bond_angle(Ar1_coord, Ar2_coord, Ar3_coord)\n",
    "Argon_trimer_bond_angle = compute_bond_angle(Ar2_coord, Ar3_coord, Ar1_coord)\n",
    "Argon_trimer_bond_angle = compute_bond_angle(Ar3_coord, Ar1_coord, Ar2_coord)"
   ]
  },
  {
   "cell_type": "code",
   "execution_count": 9,
   "id": "0d2e8b4c-98b3-410b-82d8-886416900388",
   "metadata": {},
   "outputs": [
    {
     "name": "stdout",
     "output_type": "stream",
     "text": [
      "Argon atoms are not in equilateral triangle.\n"
     ]
    }
   ],
   "source": [
    "# Discuss wheter the three Argon atoms are in an equilateral triangle.\n",
    "if r12_opt == r13_opt == r23_opt:\n",
    "    print(\"Argon atoms are in equilateral triangle.\")\n",
    "else:\n",
    "    print(\"Argon atoms are not in equilateral triangle.\")\n"
   ]
  },
  {
   "cell_type": "code",
   "execution_count": null,
   "id": "a68f32a0-c8d2-490e-87a0-5132f5e56aa9",
   "metadata": {},
   "outputs": [],
   "source": [
    "\n"
   ]
  },
  {
   "cell_type": "code",
   "execution_count": null,
   "id": "46763c4c-eefd-4898-9f04-8576b38b8b7e",
   "metadata": {},
   "outputs": [],
   "source": []
  }
 ],
 "metadata": {
  "kernelspec": {
   "display_name": "Python 3 (ipykernel)",
   "language": "python",
   "name": "python3"
  },
  "language_info": {
   "codemirror_mode": {
    "name": "ipython",
    "version": 3
   },
   "file_extension": ".py",
   "mimetype": "text/x-python",
   "name": "python",
   "nbconvert_exporter": "python",
   "pygments_lexer": "ipython3",
   "version": "3.12.4"
  }
 },
 "nbformat": 4,
 "nbformat_minor": 5
}
