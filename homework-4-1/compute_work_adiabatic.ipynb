{
 "cells": [
  {
   "cell_type": "code",
   "execution_count": 1,
   "id": "5079191e-0ffd-4f8e-9e40-7563c664fdfc",
   "metadata": {},
   "outputs": [],
   "source": [
    "import numpy as np\n",
    "import scipy"
   ]
  },
  {
   "cell_type": "code",
   "execution_count": 2,
   "id": "772aabdd-9b3a-48e7-8e2f-87cd9d12c0cf",
   "metadata": {},
   "outputs": [],
   "source": [
    "# Define function compute_work_adiabatic\n",
    "def compute_work_adiabatic(Vi, Vf, n, R, T, gamma):\n",
    "    P_initial = n * R * T / Vi # Calculate the initial pressure\n",
    "    constant = P_initial * (Vi**gamma) # Calculate the constant\n",
    "    volume = np.linspace(Vi, Vf, 1000)\n",
    "    pressure = constant / (volume**gamma) # Calculate the pressures\n",
    "    work_adiabatic =  - scipy.integrate.trapezoid(pressure, volume) #Use scipy.integrate.trapezoid to compute the work\n",
    "    return work_adiabatic"
   ]
  },
  {
   "cell_type": "code",
   "execution_count": 3,
   "id": "4e38c8ff-4836-4c4a-ad4b-064cd7b344e5",
   "metadata": {},
   "outputs": [],
   "source": [
    "# Assign values to the parameters\n",
    "Vi = 0.1\n",
    "Vf = 3 * Vi\n",
    "n = 1\n",
    "R = 8.314\n",
    "T = 300\n",
    "gamma = 1.4\n"
   ]
  },
  {
   "cell_type": "code",
   "execution_count": 4,
   "id": "f3154ac7-958c-4cb4-8eb3-4c0965bf92ce",
   "metadata": {},
   "outputs": [
    {
     "name": "stdout",
     "output_type": "stream",
     "text": [
      "Work done in adiabatic process: -2217.38 J\n"
     ]
    }
   ],
   "source": [
    "W_adi = compute_work_adiabatic(Vi, Vf, n, R, T, gamma) # Compute the work done during an adiabatic expansion\n",
    "print(f\"Work done in adiabatic process: {W_adi:.2f} J\")"
   ]
  },
  {
   "cell_type": "code",
   "execution_count": null,
   "id": "53062de0-1d35-497f-bd90-61247580afb6",
   "metadata": {},
   "outputs": [],
   "source": []
  }
 ],
 "metadata": {
  "kernelspec": {
   "display_name": "Python 3 (ipykernel)",
   "language": "python",
   "name": "python3"
  },
  "language_info": {
   "codemirror_mode": {
    "name": "ipython",
    "version": 3
   },
   "file_extension": ".py",
   "mimetype": "text/x-python",
   "name": "python",
   "nbconvert_exporter": "python",
   "pygments_lexer": "ipython3",
   "version": "3.12.4"
  }
 },
 "nbformat": 4,
 "nbformat_minor": 5
}
