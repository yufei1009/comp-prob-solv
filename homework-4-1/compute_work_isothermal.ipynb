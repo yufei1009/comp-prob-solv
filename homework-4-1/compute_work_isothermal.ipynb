{
 "cells": [
  {
   "cell_type": "code",
   "execution_count": 1,
   "id": "f0852236-4537-4c56-84ff-f36124790440",
   "metadata": {},
   "outputs": [],
   "source": [
    "import numpy as np\n",
    "import scipy"
   ]
  },
  {
   "cell_type": "code",
   "execution_count": 2,
   "id": "6d319c3b-f380-40b7-988c-eb0ce5321844",
   "metadata": {},
   "outputs": [],
   "source": [
    "# Define function compute_work_isothermal\n",
    "def compute_work_isothermal(Vi, Vf, n, R, T):\n",
    "    volume = np.linspace(Vi, Vf, 1000)\n",
    "    pressure = n * R * T / volume # Calculate pressure by ideal gas law\n",
    "    work_iso = - scipy.integrate.trapezoid(pressure, volume) # Use scipy.integrate.trapezoid to compute the work\n",
    "    return work_iso"
   ]
  },
  {
   "cell_type": "code",
   "execution_count": 3,
   "id": "455196da-b054-4c86-b73f-2ce52e572fa1",
   "metadata": {},
   "outputs": [],
   "source": [
    "# Assign values to the parameters\n",
    "n = 1\n",
    "R = 8.314\n",
    "T = 300\n",
    "Vi = 0.1\n",
    "Vf = 3 * Vi"
   ]
  },
  {
   "cell_type": "code",
   "execution_count": 4,
   "id": "2c852a10-8359-4999-93ef-e92d11f5ebe2",
   "metadata": {},
   "outputs": [
    {
     "name": "stdout",
     "output_type": "stream",
     "text": [
      "Work done in isothermal expansion: -2740.16 J\n"
     ]
    }
   ],
   "source": [
    "W_iso = compute_work_isothermal(Vi, Vf, n, R, T) # Compute the work done during an isothermal expansion\n",
    "print(f\"Work done in isothermal expansion: {W_iso:.2f} J\")\n"
   ]
  },
  {
   "cell_type": "code",
   "execution_count": null,
   "id": "51c85a84-fc7f-40b5-ac93-a39d19b84d7f",
   "metadata": {},
   "outputs": [],
   "source": []
  }
 ],
 "metadata": {
  "kernelspec": {
   "display_name": "Python 3 (ipykernel)",
   "language": "python",
   "name": "python3"
  },
  "language_info": {
   "codemirror_mode": {
    "name": "ipython",
    "version": 3
   },
   "file_extension": ".py",
   "mimetype": "text/x-python",
   "name": "python",
   "nbconvert_exporter": "python",
   "pygments_lexer": "ipython3",
   "version": "3.12.4"
  }
 },
 "nbformat": 4,
 "nbformat_minor": 5
}
